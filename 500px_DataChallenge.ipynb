{
 "cells": [
  {
   "cell_type": "code",
   "execution_count": 72,
   "metadata": {},
   "outputs": [],
   "source": [
    "import pandas as pd\n",
    "import numpy as np\n",
    "import matplotlib.pyplot as plt\n",
    "import datetime\n",
    "from dateutil.relativedelta import relativedelta\n",
    "from datetime import date\n",
    "from sklearn import preprocessing"
   ]
  },
  {
   "cell_type": "code",
   "execution_count": 73,
   "metadata": {},
   "outputs": [
    {
     "data": {
      "text/html": [
       "<div>\n",
       "<style scoped>\n",
       "    .dataframe tbody tr th:only-of-type {\n",
       "        vertical-align: middle;\n",
       "    }\n",
       "\n",
       "    .dataframe tbody tr th {\n",
       "        vertical-align: top;\n",
       "    }\n",
       "\n",
       "    .dataframe thead th {\n",
       "        text-align: right;\n",
       "    }\n",
       "</style>\n",
       "<table border=\"1\" class=\"dataframe\">\n",
       "  <thead>\n",
       "    <tr style=\"text-align: right;\">\n",
       "      <th></th>\n",
       "      <th>user_id</th>\n",
       "      <th>start_time</th>\n",
       "      <th>end_time</th>\n",
       "    </tr>\n",
       "  </thead>\n",
       "  <tbody>\n",
       "    <tr>\n",
       "      <th>0</th>\n",
       "      <td>398814</td>\n",
       "      <td>2001-02-01T00:04:00</td>\n",
       "      <td>2001-02-01T00:11:00</td>\n",
       "    </tr>\n",
       "    <tr>\n",
       "      <th>1</th>\n",
       "      <td>399018</td>\n",
       "      <td>2001-02-01T00:12:00</td>\n",
       "      <td>2001-02-01T00:53:00</td>\n",
       "    </tr>\n",
       "    <tr>\n",
       "      <th>2</th>\n",
       "      <td>399006</td>\n",
       "      <td>2001-02-01T00:12:00</td>\n",
       "      <td>2001-02-01T00:36:00</td>\n",
       "    </tr>\n",
       "    <tr>\n",
       "      <th>3</th>\n",
       "      <td>399006</td>\n",
       "      <td>2001-02-01T00:16:00</td>\n",
       "      <td>2001-02-01T00:16:00</td>\n",
       "    </tr>\n",
       "    <tr>\n",
       "      <th>4</th>\n",
       "      <td>399406</td>\n",
       "      <td>2001-02-01T00:28:00</td>\n",
       "      <td>2001-02-01T00:38:00</td>\n",
       "    </tr>\n",
       "  </tbody>\n",
       "</table>\n",
       "</div>"
      ],
      "text/plain": [
       "   user_id           start_time             end_time\n",
       "0   398814  2001-02-01T00:04:00  2001-02-01T00:11:00\n",
       "1   399018  2001-02-01T00:12:00  2001-02-01T00:53:00\n",
       "2   399006  2001-02-01T00:12:00  2001-02-01T00:36:00\n",
       "3   399006  2001-02-01T00:16:00  2001-02-01T00:16:00\n",
       "4   399406  2001-02-01T00:28:00  2001-02-01T00:38:00"
      ]
     },
     "execution_count": 73,
     "metadata": {},
     "output_type": "execute_result"
    }
   ],
   "source": [
    "df_sessions = pd.read_csv(\"data_challenge_sessions.csv\")\n",
    "df_sessions.head()"
   ]
  },
  {
   "cell_type": "code",
   "execution_count": 4,
   "metadata": {},
   "outputs": [
    {
     "data": {
      "text/html": [
       "<div>\n",
       "<style scoped>\n",
       "    .dataframe tbody tr th:only-of-type {\n",
       "        vertical-align: middle;\n",
       "    }\n",
       "\n",
       "    .dataframe tbody tr th {\n",
       "        vertical-align: top;\n",
       "    }\n",
       "\n",
       "    .dataframe thead th {\n",
       "        text-align: right;\n",
       "    }\n",
       "</style>\n",
       "<table border=\"1\" class=\"dataframe\">\n",
       "  <thead>\n",
       "    <tr style=\"text-align: right;\">\n",
       "      <th></th>\n",
       "      <th>user_id</th>\n",
       "      <th>date</th>\n",
       "      <th>upload_count</th>\n",
       "    </tr>\n",
       "  </thead>\n",
       "  <tbody>\n",
       "    <tr>\n",
       "      <th>0</th>\n",
       "      <td>301598</td>\n",
       "      <td>2001-02-01</td>\n",
       "      <td>2</td>\n",
       "    </tr>\n",
       "    <tr>\n",
       "      <th>1</th>\n",
       "      <td>308798</td>\n",
       "      <td>2001-02-01</td>\n",
       "      <td>1</td>\n",
       "    </tr>\n",
       "    <tr>\n",
       "      <th>2</th>\n",
       "      <td>399006</td>\n",
       "      <td>2001-02-01</td>\n",
       "      <td>5</td>\n",
       "    </tr>\n",
       "    <tr>\n",
       "      <th>3</th>\n",
       "      <td>399018</td>\n",
       "      <td>2001-02-01</td>\n",
       "      <td>1</td>\n",
       "    </tr>\n",
       "    <tr>\n",
       "      <th>4</th>\n",
       "      <td>399602</td>\n",
       "      <td>2001-02-01</td>\n",
       "      <td>15</td>\n",
       "    </tr>\n",
       "  </tbody>\n",
       "</table>\n",
       "</div>"
      ],
      "text/plain": [
       "   user_id        date  upload_count\n",
       "0   301598  2001-02-01             2\n",
       "1   308798  2001-02-01             1\n",
       "2   399006  2001-02-01             5\n",
       "3   399018  2001-02-01             1\n",
       "4   399602  2001-02-01            15"
      ]
     },
     "execution_count": 4,
     "metadata": {},
     "output_type": "execute_result"
    }
   ],
   "source": [
    "df_uploads = pd.read_csv(\"data_challenge_uploads.csv\")\n",
    "df_uploads.head()"
   ]
  },
  {
   "cell_type": "markdown",
   "metadata": {},
   "source": [
    "# Data Prep"
   ]
  },
  {
   "cell_type": "code",
   "execution_count": 6,
   "metadata": {},
   "outputs": [],
   "source": [
    "#convert date_login, start_time, end_time to datetime\n",
    "df_uploads['date_login'] = pd.to_datetime(df_uploads['date'].str.strip(), dayfirst=True)\n",
    "df_sessions['start_time_c'] = pd.to_datetime(df_sessions['start_time'])\n",
    "df_sessions['end_time_c'] = pd.to_datetime(df_sessions['end_time'])\n",
    "\n",
    "#add datetime column 'date_login' to sessions data set based on 'start_time' to help join with uploads dataset\n",
    "df_sessions['date_login'] = df_sessions['start_time_c'].dt.normalize()"
   ]
  },
  {
   "cell_type": "code",
   "execution_count": 7,
   "metadata": {},
   "outputs": [],
   "source": [
    "df_uploads = df_uploads.drop([\"date\"], axis = 1)\n",
    "df_sessions = df_sessions.drop([\"start_time\", \"end_time\"], axis = 1)"
   ]
  },
  {
   "cell_type": "code",
   "execution_count": 8,
   "metadata": {},
   "outputs": [
    {
     "data": {
      "text/html": [
       "<div>\n",
       "<style scoped>\n",
       "    .dataframe tbody tr th:only-of-type {\n",
       "        vertical-align: middle;\n",
       "    }\n",
       "\n",
       "    .dataframe tbody tr th {\n",
       "        vertical-align: top;\n",
       "    }\n",
       "\n",
       "    .dataframe thead th {\n",
       "        text-align: right;\n",
       "    }\n",
       "</style>\n",
       "<table border=\"1\" class=\"dataframe\">\n",
       "  <thead>\n",
       "    <tr style=\"text-align: right;\">\n",
       "      <th></th>\n",
       "      <th>user_id</th>\n",
       "      <th>start_time_c</th>\n",
       "      <th>end_time_c</th>\n",
       "      <th>date_login</th>\n",
       "    </tr>\n",
       "  </thead>\n",
       "  <tbody>\n",
       "    <tr>\n",
       "      <th>0</th>\n",
       "      <td>398814</td>\n",
       "      <td>2001-02-01 00:04:00</td>\n",
       "      <td>2001-02-01 00:11:00</td>\n",
       "      <td>2001-02-01</td>\n",
       "    </tr>\n",
       "    <tr>\n",
       "      <th>1</th>\n",
       "      <td>399018</td>\n",
       "      <td>2001-02-01 00:12:00</td>\n",
       "      <td>2001-02-01 00:53:00</td>\n",
       "      <td>2001-02-01</td>\n",
       "    </tr>\n",
       "    <tr>\n",
       "      <th>2</th>\n",
       "      <td>399006</td>\n",
       "      <td>2001-02-01 00:12:00</td>\n",
       "      <td>2001-02-01 00:36:00</td>\n",
       "      <td>2001-02-01</td>\n",
       "    </tr>\n",
       "    <tr>\n",
       "      <th>3</th>\n",
       "      <td>399006</td>\n",
       "      <td>2001-02-01 00:16:00</td>\n",
       "      <td>2001-02-01 00:16:00</td>\n",
       "      <td>2001-02-01</td>\n",
       "    </tr>\n",
       "    <tr>\n",
       "      <th>4</th>\n",
       "      <td>399406</td>\n",
       "      <td>2001-02-01 00:28:00</td>\n",
       "      <td>2001-02-01 00:38:00</td>\n",
       "      <td>2001-02-01</td>\n",
       "    </tr>\n",
       "  </tbody>\n",
       "</table>\n",
       "</div>"
      ],
      "text/plain": [
       "   user_id        start_time_c          end_time_c date_login\n",
       "0   398814 2001-02-01 00:04:00 2001-02-01 00:11:00 2001-02-01\n",
       "1   399018 2001-02-01 00:12:00 2001-02-01 00:53:00 2001-02-01\n",
       "2   399006 2001-02-01 00:12:00 2001-02-01 00:36:00 2001-02-01\n",
       "3   399006 2001-02-01 00:16:00 2001-02-01 00:16:00 2001-02-01\n",
       "4   399406 2001-02-01 00:28:00 2001-02-01 00:38:00 2001-02-01"
      ]
     },
     "execution_count": 8,
     "metadata": {},
     "output_type": "execute_result"
    }
   ],
   "source": [
    "df_sessions.head()"
   ]
  },
  {
   "cell_type": "code",
   "execution_count": 9,
   "metadata": {},
   "outputs": [
    {
     "data": {
      "text/html": [
       "<div>\n",
       "<style scoped>\n",
       "    .dataframe tbody tr th:only-of-type {\n",
       "        vertical-align: middle;\n",
       "    }\n",
       "\n",
       "    .dataframe tbody tr th {\n",
       "        vertical-align: top;\n",
       "    }\n",
       "\n",
       "    .dataframe thead th {\n",
       "        text-align: right;\n",
       "    }\n",
       "</style>\n",
       "<table border=\"1\" class=\"dataframe\">\n",
       "  <thead>\n",
       "    <tr style=\"text-align: right;\">\n",
       "      <th></th>\n",
       "      <th>user_id</th>\n",
       "      <th>upload_count</th>\n",
       "      <th>date_login</th>\n",
       "    </tr>\n",
       "  </thead>\n",
       "  <tbody>\n",
       "    <tr>\n",
       "      <th>0</th>\n",
       "      <td>301598</td>\n",
       "      <td>2</td>\n",
       "      <td>2001-02-01</td>\n",
       "    </tr>\n",
       "    <tr>\n",
       "      <th>1</th>\n",
       "      <td>308798</td>\n",
       "      <td>1</td>\n",
       "      <td>2001-02-01</td>\n",
       "    </tr>\n",
       "    <tr>\n",
       "      <th>2</th>\n",
       "      <td>399006</td>\n",
       "      <td>5</td>\n",
       "      <td>2001-02-01</td>\n",
       "    </tr>\n",
       "    <tr>\n",
       "      <th>3</th>\n",
       "      <td>399018</td>\n",
       "      <td>1</td>\n",
       "      <td>2001-02-01</td>\n",
       "    </tr>\n",
       "    <tr>\n",
       "      <th>4</th>\n",
       "      <td>399602</td>\n",
       "      <td>15</td>\n",
       "      <td>2001-02-01</td>\n",
       "    </tr>\n",
       "  </tbody>\n",
       "</table>\n",
       "</div>"
      ],
      "text/plain": [
       "   user_id  upload_count date_login\n",
       "0   301598             2 2001-02-01\n",
       "1   308798             1 2001-02-01\n",
       "2   399006             5 2001-02-01\n",
       "3   399018             1 2001-02-01\n",
       "4   399602            15 2001-02-01"
      ]
     },
     "execution_count": 9,
     "metadata": {},
     "output_type": "execute_result"
    }
   ],
   "source": [
    "df_uploads.head()"
   ]
  },
  {
   "cell_type": "code",
   "execution_count": 10,
   "metadata": {},
   "outputs": [
    {
     "data": {
      "text/html": [
       "<div>\n",
       "<style scoped>\n",
       "    .dataframe tbody tr th:only-of-type {\n",
       "        vertical-align: middle;\n",
       "    }\n",
       "\n",
       "    .dataframe tbody tr th {\n",
       "        vertical-align: top;\n",
       "    }\n",
       "\n",
       "    .dataframe thead th {\n",
       "        text-align: right;\n",
       "    }\n",
       "</style>\n",
       "<table border=\"1\" class=\"dataframe\">\n",
       "  <thead>\n",
       "    <tr style=\"text-align: right;\">\n",
       "      <th></th>\n",
       "      <th>user_id</th>\n",
       "      <th>start_time_c</th>\n",
       "      <th>end_time_c</th>\n",
       "      <th>date_login</th>\n",
       "      <th>upload_count</th>\n",
       "    </tr>\n",
       "  </thead>\n",
       "  <tbody>\n",
       "    <tr>\n",
       "      <th>0</th>\n",
       "      <td>399018</td>\n",
       "      <td>2001-02-01 00:12:00</td>\n",
       "      <td>2001-02-01 00:53:00</td>\n",
       "      <td>2001-02-01</td>\n",
       "      <td>1</td>\n",
       "    </tr>\n",
       "    <tr>\n",
       "      <th>1</th>\n",
       "      <td>399018</td>\n",
       "      <td>2001-02-01 20:43:00</td>\n",
       "      <td>2001-02-01 20:45:00</td>\n",
       "      <td>2001-02-01</td>\n",
       "      <td>1</td>\n",
       "    </tr>\n",
       "    <tr>\n",
       "      <th>2</th>\n",
       "      <td>399006</td>\n",
       "      <td>2001-02-01 00:12:00</td>\n",
       "      <td>2001-02-01 00:36:00</td>\n",
       "      <td>2001-02-01</td>\n",
       "      <td>5</td>\n",
       "    </tr>\n",
       "    <tr>\n",
       "      <th>3</th>\n",
       "      <td>399006</td>\n",
       "      <td>2001-02-01 00:16:00</td>\n",
       "      <td>2001-02-01 00:16:00</td>\n",
       "      <td>2001-02-01</td>\n",
       "      <td>5</td>\n",
       "    </tr>\n",
       "    <tr>\n",
       "      <th>4</th>\n",
       "      <td>399006</td>\n",
       "      <td>2001-02-01 22:03:00</td>\n",
       "      <td>2001-02-01 23:00:00</td>\n",
       "      <td>2001-02-01</td>\n",
       "      <td>5</td>\n",
       "    </tr>\n",
       "  </tbody>\n",
       "</table>\n",
       "</div>"
      ],
      "text/plain": [
       "   user_id        start_time_c          end_time_c date_login  upload_count\n",
       "0   399018 2001-02-01 00:12:00 2001-02-01 00:53:00 2001-02-01             1\n",
       "1   399018 2001-02-01 20:43:00 2001-02-01 20:45:00 2001-02-01             1\n",
       "2   399006 2001-02-01 00:12:00 2001-02-01 00:36:00 2001-02-01             5\n",
       "3   399006 2001-02-01 00:16:00 2001-02-01 00:16:00 2001-02-01             5\n",
       "4   399006 2001-02-01 22:03:00 2001-02-01 23:00:00 2001-02-01             5"
      ]
     },
     "execution_count": 10,
     "metadata": {},
     "output_type": "execute_result"
    }
   ],
   "source": [
    "#merge sessions and uploads data frames on user id and date_login\n",
    "df_merge = pd.merge(df_sessions, df_uploads, on = ['user_id','date_login'])\n",
    "df_merge.head()"
   ]
  },
  {
   "cell_type": "code",
   "execution_count": 11,
   "metadata": {},
   "outputs": [
    {
     "data": {
      "text/plain": [
       "False"
      ]
     },
     "execution_count": 11,
     "metadata": {},
     "output_type": "execute_result"
    }
   ],
   "source": [
    "#check for any null values in merged df\n",
    "df_merge.isnull().values.any()"
   ]
  },
  {
   "cell_type": "code",
   "execution_count": 13,
   "metadata": {},
   "outputs": [
    {
     "data": {
      "text/html": [
       "<div>\n",
       "<style scoped>\n",
       "    .dataframe tbody tr th:only-of-type {\n",
       "        vertical-align: middle;\n",
       "    }\n",
       "\n",
       "    .dataframe tbody tr th {\n",
       "        vertical-align: top;\n",
       "    }\n",
       "\n",
       "    .dataframe thead th {\n",
       "        text-align: right;\n",
       "    }\n",
       "</style>\n",
       "<table border=\"1\" class=\"dataframe\">\n",
       "  <thead>\n",
       "    <tr style=\"text-align: right;\">\n",
       "      <th></th>\n",
       "      <th>user_id</th>\n",
       "      <th>start_time_c</th>\n",
       "      <th>end_time_c</th>\n",
       "      <th>date_login</th>\n",
       "      <th>upload_count</th>\n",
       "      <th>start_date</th>\n",
       "    </tr>\n",
       "  </thead>\n",
       "  <tbody>\n",
       "  </tbody>\n",
       "</table>\n",
       "</div>"
      ],
      "text/plain": [
       "Empty DataFrame\n",
       "Columns: [user_id, start_time_c, end_time_c, date_login, upload_count, start_date]\n",
       "Index: []"
      ]
     },
     "execution_count": 13,
     "metadata": {},
     "output_type": "execute_result"
    }
   ],
   "source": [
    "#validate the merge\n",
    "df_merge['start_date'] = df_merge['start_time_c'].dt.normalize()\n",
    "df_merge.query('start_date != date_login')"
   ]
  },
  {
   "cell_type": "code",
   "execution_count": 14,
   "metadata": {},
   "outputs": [],
   "source": [
    "df_merge = df_merge.drop([\"start_date\"], axis = 1)"
   ]
  },
  {
   "cell_type": "code",
   "execution_count": 18,
   "metadata": {},
   "outputs": [],
   "source": [
    "#calculate session duration in minutes\n",
    "df_merge['session_dur'] = df_merge['end_time_c'] - df_merge['start_time_c']\n",
    "df_merge['session_dur']=df_merge['session_dur']/np.timedelta64(1,'m')"
   ]
  },
  {
   "cell_type": "code",
   "execution_count": 19,
   "metadata": {},
   "outputs": [
    {
     "data": {
      "text/html": [
       "<div>\n",
       "<style scoped>\n",
       "    .dataframe tbody tr th:only-of-type {\n",
       "        vertical-align: middle;\n",
       "    }\n",
       "\n",
       "    .dataframe tbody tr th {\n",
       "        vertical-align: top;\n",
       "    }\n",
       "\n",
       "    .dataframe thead th {\n",
       "        text-align: right;\n",
       "    }\n",
       "</style>\n",
       "<table border=\"1\" class=\"dataframe\">\n",
       "  <thead>\n",
       "    <tr style=\"text-align: right;\">\n",
       "      <th></th>\n",
       "      <th>user_id</th>\n",
       "      <th>start_time_c</th>\n",
       "      <th>end_time_c</th>\n",
       "      <th>date_login</th>\n",
       "      <th>upload_count</th>\n",
       "      <th>session_dur</th>\n",
       "    </tr>\n",
       "  </thead>\n",
       "  <tbody>\n",
       "    <tr>\n",
       "      <th>0</th>\n",
       "      <td>399018</td>\n",
       "      <td>2001-02-01 00:12:00</td>\n",
       "      <td>2001-02-01 00:53:00</td>\n",
       "      <td>2001-02-01</td>\n",
       "      <td>1</td>\n",
       "      <td>41.0</td>\n",
       "    </tr>\n",
       "    <tr>\n",
       "      <th>1</th>\n",
       "      <td>399018</td>\n",
       "      <td>2001-02-01 20:43:00</td>\n",
       "      <td>2001-02-01 20:45:00</td>\n",
       "      <td>2001-02-01</td>\n",
       "      <td>1</td>\n",
       "      <td>2.0</td>\n",
       "    </tr>\n",
       "    <tr>\n",
       "      <th>2</th>\n",
       "      <td>399006</td>\n",
       "      <td>2001-02-01 00:12:00</td>\n",
       "      <td>2001-02-01 00:36:00</td>\n",
       "      <td>2001-02-01</td>\n",
       "      <td>5</td>\n",
       "      <td>24.0</td>\n",
       "    </tr>\n",
       "    <tr>\n",
       "      <th>3</th>\n",
       "      <td>399006</td>\n",
       "      <td>2001-02-01 00:16:00</td>\n",
       "      <td>2001-02-01 00:16:00</td>\n",
       "      <td>2001-02-01</td>\n",
       "      <td>5</td>\n",
       "      <td>0.0</td>\n",
       "    </tr>\n",
       "    <tr>\n",
       "      <th>4</th>\n",
       "      <td>399006</td>\n",
       "      <td>2001-02-01 22:03:00</td>\n",
       "      <td>2001-02-01 23:00:00</td>\n",
       "      <td>2001-02-01</td>\n",
       "      <td>5</td>\n",
       "      <td>57.0</td>\n",
       "    </tr>\n",
       "  </tbody>\n",
       "</table>\n",
       "</div>"
      ],
      "text/plain": [
       "   user_id        start_time_c          end_time_c date_login  upload_count  \\\n",
       "0   399018 2001-02-01 00:12:00 2001-02-01 00:53:00 2001-02-01             1   \n",
       "1   399018 2001-02-01 20:43:00 2001-02-01 20:45:00 2001-02-01             1   \n",
       "2   399006 2001-02-01 00:12:00 2001-02-01 00:36:00 2001-02-01             5   \n",
       "3   399006 2001-02-01 00:16:00 2001-02-01 00:16:00 2001-02-01             5   \n",
       "4   399006 2001-02-01 22:03:00 2001-02-01 23:00:00 2001-02-01             5   \n",
       "\n",
       "   session_dur  \n",
       "0         41.0  \n",
       "1          2.0  \n",
       "2         24.0  \n",
       "3          0.0  \n",
       "4         57.0  "
      ]
     },
     "execution_count": 19,
     "metadata": {},
     "output_type": "execute_result"
    }
   ],
   "source": [
    "df_merge.head()"
   ]
  },
  {
   "cell_type": "code",
   "execution_count": 20,
   "metadata": {},
   "outputs": [],
   "source": [
    "#Get Week Number for each based on upload date (date_login)\n",
    "df_merge['Week_Number'] = df_merge['date_login'].dt.week - 4"
   ]
  },
  {
   "cell_type": "code",
   "execution_count": 21,
   "metadata": {},
   "outputs": [
    {
     "data": {
      "text/html": [
       "<div>\n",
       "<style scoped>\n",
       "    .dataframe tbody tr th:only-of-type {\n",
       "        vertical-align: middle;\n",
       "    }\n",
       "\n",
       "    .dataframe tbody tr th {\n",
       "        vertical-align: top;\n",
       "    }\n",
       "\n",
       "    .dataframe thead th {\n",
       "        text-align: right;\n",
       "    }\n",
       "</style>\n",
       "<table border=\"1\" class=\"dataframe\">\n",
       "  <thead>\n",
       "    <tr style=\"text-align: right;\">\n",
       "      <th></th>\n",
       "      <th>user_id</th>\n",
       "      <th>start_time_c</th>\n",
       "      <th>end_time_c</th>\n",
       "      <th>date_login</th>\n",
       "      <th>upload_count</th>\n",
       "      <th>session_dur</th>\n",
       "      <th>Week_Number</th>\n",
       "    </tr>\n",
       "  </thead>\n",
       "  <tbody>\n",
       "    <tr>\n",
       "      <th>0</th>\n",
       "      <td>399018</td>\n",
       "      <td>2001-02-01 00:12:00</td>\n",
       "      <td>2001-02-01 00:53:00</td>\n",
       "      <td>2001-02-01</td>\n",
       "      <td>1</td>\n",
       "      <td>41.0</td>\n",
       "      <td>1</td>\n",
       "    </tr>\n",
       "    <tr>\n",
       "      <th>1</th>\n",
       "      <td>399018</td>\n",
       "      <td>2001-02-01 20:43:00</td>\n",
       "      <td>2001-02-01 20:45:00</td>\n",
       "      <td>2001-02-01</td>\n",
       "      <td>1</td>\n",
       "      <td>2.0</td>\n",
       "      <td>1</td>\n",
       "    </tr>\n",
       "    <tr>\n",
       "      <th>2</th>\n",
       "      <td>399006</td>\n",
       "      <td>2001-02-01 00:12:00</td>\n",
       "      <td>2001-02-01 00:36:00</td>\n",
       "      <td>2001-02-01</td>\n",
       "      <td>5</td>\n",
       "      <td>24.0</td>\n",
       "      <td>1</td>\n",
       "    </tr>\n",
       "    <tr>\n",
       "      <th>3</th>\n",
       "      <td>399006</td>\n",
       "      <td>2001-02-01 00:16:00</td>\n",
       "      <td>2001-02-01 00:16:00</td>\n",
       "      <td>2001-02-01</td>\n",
       "      <td>5</td>\n",
       "      <td>0.0</td>\n",
       "      <td>1</td>\n",
       "    </tr>\n",
       "    <tr>\n",
       "      <th>4</th>\n",
       "      <td>399006</td>\n",
       "      <td>2001-02-01 22:03:00</td>\n",
       "      <td>2001-02-01 23:00:00</td>\n",
       "      <td>2001-02-01</td>\n",
       "      <td>5</td>\n",
       "      <td>57.0</td>\n",
       "      <td>1</td>\n",
       "    </tr>\n",
       "  </tbody>\n",
       "</table>\n",
       "</div>"
      ],
      "text/plain": [
       "   user_id        start_time_c          end_time_c date_login  upload_count  \\\n",
       "0   399018 2001-02-01 00:12:00 2001-02-01 00:53:00 2001-02-01             1   \n",
       "1   399018 2001-02-01 20:43:00 2001-02-01 20:45:00 2001-02-01             1   \n",
       "2   399006 2001-02-01 00:12:00 2001-02-01 00:36:00 2001-02-01             5   \n",
       "3   399006 2001-02-01 00:16:00 2001-02-01 00:16:00 2001-02-01             5   \n",
       "4   399006 2001-02-01 22:03:00 2001-02-01 23:00:00 2001-02-01             5   \n",
       "\n",
       "   session_dur  Week_Number  \n",
       "0         41.0            1  \n",
       "1          2.0            1  \n",
       "2         24.0            1  \n",
       "3          0.0            1  \n",
       "4         57.0            1  "
      ]
     },
     "execution_count": 21,
     "metadata": {},
     "output_type": "execute_result"
    }
   ],
   "source": [
    "df_merge.head()"
   ]
  },
  {
   "cell_type": "code",
   "execution_count": 22,
   "metadata": {},
   "outputs": [
    {
     "data": {
      "text/plain": [
       "user_id                  int64\n",
       "start_time_c    datetime64[ns]\n",
       "end_time_c      datetime64[ns]\n",
       "date_login      datetime64[ns]\n",
       "upload_count             int64\n",
       "session_dur            float64\n",
       "Week_Number              int64\n",
       "dtype: object"
      ]
     },
     "execution_count": 22,
     "metadata": {},
     "output_type": "execute_result"
    }
   ],
   "source": [
    "df_merge.dtypes"
   ]
  },
  {
   "cell_type": "code",
   "execution_count": 23,
   "metadata": {},
   "outputs": [
    {
     "data": {
      "text/plain": [
       "(59454, 7)"
      ]
     },
     "execution_count": 23,
     "metadata": {},
     "output_type": "execute_result"
    }
   ],
   "source": [
    "df_merge.shape"
   ]
  },
  {
   "cell_type": "code",
   "execution_count": 24,
   "metadata": {},
   "outputs": [],
   "source": [
    "df_merge.set_index('user_id', inplace=True)\n",
    "\n",
    "df_merge['CohortGroup'] = df_merge.groupby(level=0)['Week_Number'].min()\n",
    "df_merge.reset_index(inplace=True)"
   ]
  },
  {
   "cell_type": "code",
   "execution_count": 25,
   "metadata": {},
   "outputs": [
    {
     "data": {
      "text/html": [
       "<div>\n",
       "<style scoped>\n",
       "    .dataframe tbody tr th:only-of-type {\n",
       "        vertical-align: middle;\n",
       "    }\n",
       "\n",
       "    .dataframe tbody tr th {\n",
       "        vertical-align: top;\n",
       "    }\n",
       "\n",
       "    .dataframe thead th {\n",
       "        text-align: right;\n",
       "    }\n",
       "</style>\n",
       "<table border=\"1\" class=\"dataframe\">\n",
       "  <thead>\n",
       "    <tr style=\"text-align: right;\">\n",
       "      <th></th>\n",
       "      <th>user_id</th>\n",
       "      <th>start_time_c</th>\n",
       "      <th>end_time_c</th>\n",
       "      <th>date_login</th>\n",
       "      <th>upload_count</th>\n",
       "      <th>session_dur</th>\n",
       "      <th>Week_Number</th>\n",
       "      <th>CohortGroup</th>\n",
       "    </tr>\n",
       "  </thead>\n",
       "  <tbody>\n",
       "    <tr>\n",
       "      <th>0</th>\n",
       "      <td>399018</td>\n",
       "      <td>2001-02-01 00:12:00</td>\n",
       "      <td>2001-02-01 00:53:00</td>\n",
       "      <td>2001-02-01</td>\n",
       "      <td>1</td>\n",
       "      <td>41.0</td>\n",
       "      <td>1</td>\n",
       "      <td>1</td>\n",
       "    </tr>\n",
       "    <tr>\n",
       "      <th>1</th>\n",
       "      <td>399018</td>\n",
       "      <td>2001-02-01 20:43:00</td>\n",
       "      <td>2001-02-01 20:45:00</td>\n",
       "      <td>2001-02-01</td>\n",
       "      <td>1</td>\n",
       "      <td>2.0</td>\n",
       "      <td>1</td>\n",
       "      <td>1</td>\n",
       "    </tr>\n",
       "    <tr>\n",
       "      <th>2</th>\n",
       "      <td>399006</td>\n",
       "      <td>2001-02-01 00:12:00</td>\n",
       "      <td>2001-02-01 00:36:00</td>\n",
       "      <td>2001-02-01</td>\n",
       "      <td>5</td>\n",
       "      <td>24.0</td>\n",
       "      <td>1</td>\n",
       "      <td>1</td>\n",
       "    </tr>\n",
       "    <tr>\n",
       "      <th>3</th>\n",
       "      <td>399006</td>\n",
       "      <td>2001-02-01 00:16:00</td>\n",
       "      <td>2001-02-01 00:16:00</td>\n",
       "      <td>2001-02-01</td>\n",
       "      <td>5</td>\n",
       "      <td>0.0</td>\n",
       "      <td>1</td>\n",
       "      <td>1</td>\n",
       "    </tr>\n",
       "    <tr>\n",
       "      <th>4</th>\n",
       "      <td>399006</td>\n",
       "      <td>2001-02-01 22:03:00</td>\n",
       "      <td>2001-02-01 23:00:00</td>\n",
       "      <td>2001-02-01</td>\n",
       "      <td>5</td>\n",
       "      <td>57.0</td>\n",
       "      <td>1</td>\n",
       "      <td>1</td>\n",
       "    </tr>\n",
       "  </tbody>\n",
       "</table>\n",
       "</div>"
      ],
      "text/plain": [
       "   user_id        start_time_c          end_time_c date_login  upload_count  \\\n",
       "0   399018 2001-02-01 00:12:00 2001-02-01 00:53:00 2001-02-01             1   \n",
       "1   399018 2001-02-01 20:43:00 2001-02-01 20:45:00 2001-02-01             1   \n",
       "2   399006 2001-02-01 00:12:00 2001-02-01 00:36:00 2001-02-01             5   \n",
       "3   399006 2001-02-01 00:16:00 2001-02-01 00:16:00 2001-02-01             5   \n",
       "4   399006 2001-02-01 22:03:00 2001-02-01 23:00:00 2001-02-01             5   \n",
       "\n",
       "   session_dur  Week_Number  CohortGroup  \n",
       "0         41.0            1            1  \n",
       "1          2.0            1            1  \n",
       "2         24.0            1            1  \n",
       "3          0.0            1            1  \n",
       "4         57.0            1            1  "
      ]
     },
     "execution_count": 25,
     "metadata": {},
     "output_type": "execute_result"
    }
   ],
   "source": [
    "df_merge.head()"
   ]
  },
  {
   "cell_type": "code",
   "execution_count": 26,
   "metadata": {},
   "outputs": [
    {
     "data": {
      "text/plain": [
       "<matplotlib.axes._subplots.AxesSubplot at 0x1a13231dd8>"
      ]
     },
     "execution_count": 26,
     "metadata": {},
     "output_type": "execute_result"
    },
    {
     "data": {
      "image/png": "[encoded data removed]",
      "text/plain": [
       "<Figure size 432x288 with 1 Axes>"
      ]
     },
     "metadata": {},
     "output_type": "display_data"
    }
   ],
   "source": [
    "import seaborn as sns\n",
    "sns.boxplot(x=df_merge['upload_count'])"
   ]
  },
  {
   "cell_type": "code",
   "execution_count": 27,
   "metadata": {},
   "outputs": [
    {
     "data": {
      "text/plain": [
       "<matplotlib.axes._subplots.AxesSubplot at 0x1a13cfdcf8>"
      ]
     },
     "execution_count": 27,
     "metadata": {},
     "output_type": "execute_result"
    },
    {
     "data": {
      "image/png": "[encoded data removed]",
      "text/plain": [
       "<Figure size 432x288 with 1 Axes>"
      ]
     },
     "metadata": {},
     "output_type": "display_data"
    }
   ],
   "source": [
    "import seaborn as sns\n",
    "sns.boxplot(x=df_merge['session_dur'])"
   ]
  },
  {
   "cell_type": "code",
   "execution_count": 29,
   "metadata": {},
   "outputs": [],
   "source": [
    "df_merge = df_merge.drop([\"start_time_c\",\"end_time_c\"], axis = 1)"
   ]
  },
  {
   "cell_type": "code",
   "execution_count": 33,
   "metadata": {},
   "outputs": [],
   "source": [
    "df_merge = df_merge.drop([\"date_login\"], axis = 1)"
   ]
  },
  {
   "cell_type": "code",
   "execution_count": 34,
   "metadata": {},
   "outputs": [],
   "source": [
    "#IQR Method to remove outliers\n",
    "Q1 = df_merge.quantile(0.25)\n",
    "Q3 = df_merge.quantile(0.75)\n",
    "IQR = Q3 - Q1\n",
    "df_merge_out = df_merge[~((df_merge < (Q1 - 1.5 * IQR)) |(df_merge > (Q3 + 1.5 * IQR))).any(axis=1)]"
   ]
  },
  {
   "cell_type": "code",
   "execution_count": 35,
   "metadata": {},
   "outputs": [
    {
     "data": {
      "text/plain": [
       "(44769, 5)"
      ]
     },
     "execution_count": 35,
     "metadata": {},
     "output_type": "execute_result"
    }
   ],
   "source": [
    "#14,685 rows removed\n",
    "df_merge_out.shape"
   ]
  },
  {
   "cell_type": "markdown",
   "metadata": {},
   "source": [
    "# Cohort Analysis"
   ]
  },
  {
   "cell_type": "code",
   "execution_count": 36,
   "metadata": {},
   "outputs": [],
   "source": [
    "#grouping\n",
    "df_grouped = df_merge_out.groupby(['CohortGroup', 'Week_Number'])\n",
    "\n",
    "# count the unique users, total upload count, avg. session duration for each group\n",
    "df_cohorts = df_grouped.agg({'user_id': pd.Series.nunique,\n",
    "                       'upload_count': np.sum,\n",
    "                       'session_dur':np.mean})\n",
    "\n",
    "# make the column names more meaningful\n",
    "df_cohorts.rename(columns={'user_id': 'TotalUsers',\n",
    "                        'upload_count': 'TotalUploads',\n",
    "                         'session_dur':'AvgDuration'}, inplace=True)"
   ]
  },
  {
   "cell_type": "code",
   "execution_count": 37,
   "metadata": {},
   "outputs": [],
   "source": [
    "#udf to create Cohort Period column -- nth period based on user's first session\n",
    "def cohort_period(df):\n",
    "    \n",
    "    df['CohortPeriod'] = np.arange(len(df)) + 1\n",
    "    return df\n",
    "\n",
    "df_cohorts = df_cohorts.groupby(level=0).apply(cohort_period)"
   ]
  },
  {
   "cell_type": "code",
   "execution_count": 38,
   "metadata": {},
   "outputs": [
    {
     "data": {
      "text/plain": [
       "CohortGroup\n",
       "1     552\n",
       "2    1402\n",
       "3    1077\n",
       "4     896\n",
       "5     429\n",
       "Name: TotalUsers, dtype: int64"
      ]
     },
     "execution_count": 38,
     "metadata": {},
     "output_type": "execute_result"
    }
   ],
   "source": [
    "# reindex the DataFrame\n",
    "df_cohorts.reset_index(inplace=True)\n",
    "df_cohorts.set_index(['CohortGroup', 'CohortPeriod'], inplace=True)\n",
    "\n",
    "# create a Series holding the total size of each CohortGroup\n",
    "df_cohorts_grp_size = df_cohorts['TotalUsers'].groupby(level=0).first()\n",
    "df_cohorts_grp_size.head()"
   ]
  },
  {
   "cell_type": "code",
   "execution_count": 39,
   "metadata": {},
   "outputs": [
    {
     "data": {
      "text/html": [
       "<div>\n",
       "<style scoped>\n",
       "    .dataframe tbody tr th:only-of-type {\n",
       "        vertical-align: middle;\n",
       "    }\n",
       "\n",
       "    .dataframe tbody tr th {\n",
       "        vertical-align: top;\n",
       "    }\n",
       "\n",
       "    .dataframe thead th {\n",
       "        text-align: right;\n",
       "    }\n",
       "</style>\n",
       "<table border=\"1\" class=\"dataframe\">\n",
       "  <thead>\n",
       "    <tr style=\"text-align: right;\">\n",
       "      <th>CohortGroup</th>\n",
       "      <th>1</th>\n",
       "      <th>2</th>\n",
       "      <th>3</th>\n",
       "      <th>4</th>\n",
       "      <th>5</th>\n",
       "      <th>6</th>\n",
       "      <th>7</th>\n",
       "    </tr>\n",
       "    <tr>\n",
       "      <th>CohortPeriod</th>\n",
       "      <th></th>\n",
       "      <th></th>\n",
       "      <th></th>\n",
       "      <th></th>\n",
       "      <th></th>\n",
       "      <th></th>\n",
       "      <th></th>\n",
       "    </tr>\n",
       "  </thead>\n",
       "  <tbody>\n",
       "    <tr>\n",
       "      <th>1</th>\n",
       "      <td>552.0</td>\n",
       "      <td>1402.0</td>\n",
       "      <td>1077.0</td>\n",
       "      <td>896.0</td>\n",
       "      <td>429.0</td>\n",
       "      <td>24.0</td>\n",
       "      <td>6.0</td>\n",
       "    </tr>\n",
       "    <tr>\n",
       "      <th>2</th>\n",
       "      <td>189.0</td>\n",
       "      <td>269.0</td>\n",
       "      <td>280.0</td>\n",
       "      <td>247.0</td>\n",
       "      <td>120.0</td>\n",
       "      <td>4.0</td>\n",
       "      <td>1.0</td>\n",
       "    </tr>\n",
       "    <tr>\n",
       "      <th>3</th>\n",
       "      <td>118.0</td>\n",
       "      <td>167.0</td>\n",
       "      <td>178.0</td>\n",
       "      <td>175.0</td>\n",
       "      <td>93.0</td>\n",
       "      <td>3.0</td>\n",
       "      <td>NaN</td>\n",
       "    </tr>\n",
       "    <tr>\n",
       "      <th>4</th>\n",
       "      <td>91.0</td>\n",
       "      <td>136.0</td>\n",
       "      <td>126.0</td>\n",
       "      <td>143.0</td>\n",
       "      <td>60.0</td>\n",
       "      <td>3.0</td>\n",
       "      <td>NaN</td>\n",
       "    </tr>\n",
       "    <tr>\n",
       "      <th>5</th>\n",
       "      <td>77.0</td>\n",
       "      <td>122.0</td>\n",
       "      <td>110.0</td>\n",
       "      <td>120.0</td>\n",
       "      <td>56.0</td>\n",
       "      <td>3.0</td>\n",
       "      <td>NaN</td>\n",
       "    </tr>\n",
       "    <tr>\n",
       "      <th>6</th>\n",
       "      <td>71.0</td>\n",
       "      <td>96.0</td>\n",
       "      <td>98.0</td>\n",
       "      <td>100.0</td>\n",
       "      <td>54.0</td>\n",
       "      <td>2.0</td>\n",
       "      <td>NaN</td>\n",
       "    </tr>\n",
       "    <tr>\n",
       "      <th>7</th>\n",
       "      <td>60.0</td>\n",
       "      <td>95.0</td>\n",
       "      <td>100.0</td>\n",
       "      <td>86.0</td>\n",
       "      <td>41.0</td>\n",
       "      <td>1.0</td>\n",
       "      <td>NaN</td>\n",
       "    </tr>\n",
       "    <tr>\n",
       "      <th>8</th>\n",
       "      <td>53.0</td>\n",
       "      <td>194.0</td>\n",
       "      <td>91.0</td>\n",
       "      <td>83.0</td>\n",
       "      <td>23.0</td>\n",
       "      <td>NaN</td>\n",
       "      <td>NaN</td>\n",
       "    </tr>\n",
       "    <tr>\n",
       "      <th>9</th>\n",
       "      <td>57.0</td>\n",
       "      <td>210.0</td>\n",
       "      <td>78.0</td>\n",
       "      <td>33.0</td>\n",
       "      <td>NaN</td>\n",
       "      <td>NaN</td>\n",
       "      <td>NaN</td>\n",
       "    </tr>\n",
       "    <tr>\n",
       "      <th>10</th>\n",
       "      <td>61.0</td>\n",
       "      <td>168.0</td>\n",
       "      <td>34.0</td>\n",
       "      <td>NaN</td>\n",
       "      <td>NaN</td>\n",
       "      <td>NaN</td>\n",
       "      <td>NaN</td>\n",
       "    </tr>\n",
       "    <tr>\n",
       "      <th>11</th>\n",
       "      <td>57.0</td>\n",
       "      <td>74.0</td>\n",
       "      <td>NaN</td>\n",
       "      <td>NaN</td>\n",
       "      <td>NaN</td>\n",
       "      <td>NaN</td>\n",
       "      <td>NaN</td>\n",
       "    </tr>\n",
       "    <tr>\n",
       "      <th>12</th>\n",
       "      <td>26.0</td>\n",
       "      <td>NaN</td>\n",
       "      <td>NaN</td>\n",
       "      <td>NaN</td>\n",
       "      <td>NaN</td>\n",
       "      <td>NaN</td>\n",
       "      <td>NaN</td>\n",
       "    </tr>\n",
       "  </tbody>\n",
       "</table>\n",
       "</div>"
      ],
      "text/plain": [
       "CohortGroup       1       2       3      4      5     6    7\n",
       "CohortPeriod                                                \n",
       "1             552.0  1402.0  1077.0  896.0  429.0  24.0  6.0\n",
       "2             189.0   269.0   280.0  247.0  120.0   4.0  1.0\n",
       "3             118.0   167.0   178.0  175.0   93.0   3.0  NaN\n",
       "4              91.0   136.0   126.0  143.0   60.0   3.0  NaN\n",
       "5              77.0   122.0   110.0  120.0   56.0   3.0  NaN\n",
       "6              71.0    96.0    98.0  100.0   54.0   2.0  NaN\n",
       "7              60.0    95.0   100.0   86.0   41.0   1.0  NaN\n",
       "8              53.0   194.0    91.0   83.0   23.0   NaN  NaN\n",
       "9              57.0   210.0    78.0   33.0    NaN   NaN  NaN\n",
       "10             61.0   168.0    34.0    NaN    NaN   NaN  NaN\n",
       "11             57.0    74.0     NaN    NaN    NaN   NaN  NaN\n",
       "12             26.0     NaN     NaN    NaN    NaN   NaN  NaN"
      ]
     },
     "execution_count": 39,
     "metadata": {},
     "output_type": "execute_result"
    }
   ],
   "source": [
    "df_cohorts['TotalUsers'].unstack(0).head(20)"
   ]
  },
  {
   "cell_type": "code",
   "execution_count": 69,
   "metadata": {},
   "outputs": [
    {
     "data": {
      "text/html": [
       "<div>\n",
       "<style scoped>\n",
       "    .dataframe tbody tr th:only-of-type {\n",
       "        vertical-align: middle;\n",
       "    }\n",
       "\n",
       "    .dataframe tbody tr th {\n",
       "        vertical-align: top;\n",
       "    }\n",
       "\n",
       "    .dataframe thead th {\n",
       "        text-align: right;\n",
       "    }\n",
       "</style>\n",
       "<table border=\"1\" class=\"dataframe\">\n",
       "  <thead>\n",
       "    <tr style=\"text-align: right;\">\n",
       "      <th>CohortGroup</th>\n",
       "      <th>1</th>\n",
       "      <th>2</th>\n",
       "      <th>3</th>\n",
       "      <th>4</th>\n",
       "      <th>5</th>\n",
       "      <th>6</th>\n",
       "      <th>7</th>\n",
       "    </tr>\n",
       "    <tr>\n",
       "      <th>CohortPeriod</th>\n",
       "      <th></th>\n",
       "      <th></th>\n",
       "      <th></th>\n",
       "      <th></th>\n",
       "      <th></th>\n",
       "      <th></th>\n",
       "      <th></th>\n",
       "    </tr>\n",
       "  </thead>\n",
       "  <tbody>\n",
       "    <tr>\n",
       "      <th>1</th>\n",
       "      <td>1.000000</td>\n",
       "      <td>1.000000</td>\n",
       "      <td>1.000000</td>\n",
       "      <td>1.000000</td>\n",
       "      <td>1.000000</td>\n",
       "      <td>1.000000</td>\n",
       "      <td>1.000000</td>\n",
       "    </tr>\n",
       "    <tr>\n",
       "      <th>2</th>\n",
       "      <td>0.342391</td>\n",
       "      <td>0.191869</td>\n",
       "      <td>0.259981</td>\n",
       "      <td>0.275670</td>\n",
       "      <td>0.279720</td>\n",
       "      <td>0.166667</td>\n",
       "      <td>0.166667</td>\n",
       "    </tr>\n",
       "    <tr>\n",
       "      <th>3</th>\n",
       "      <td>0.213768</td>\n",
       "      <td>0.119116</td>\n",
       "      <td>0.165274</td>\n",
       "      <td>0.195312</td>\n",
       "      <td>0.216783</td>\n",
       "      <td>0.125000</td>\n",
       "      <td>NaN</td>\n",
       "    </tr>\n",
       "    <tr>\n",
       "      <th>4</th>\n",
       "      <td>0.164855</td>\n",
       "      <td>0.097004</td>\n",
       "      <td>0.116992</td>\n",
       "      <td>0.159598</td>\n",
       "      <td>0.139860</td>\n",
       "      <td>0.125000</td>\n",
       "      <td>NaN</td>\n",
       "    </tr>\n",
       "    <tr>\n",
       "      <th>5</th>\n",
       "      <td>0.139493</td>\n",
       "      <td>0.087019</td>\n",
       "      <td>0.102136</td>\n",
       "      <td>0.133929</td>\n",
       "      <td>0.130536</td>\n",
       "      <td>0.125000</td>\n",
       "      <td>NaN</td>\n",
       "    </tr>\n",
       "  </tbody>\n",
       "</table>\n",
       "</div>"
      ],
      "text/plain": [
       "CohortGroup          1         2         3         4         5         6  \\\n",
       "CohortPeriod                                                               \n",
       "1             1.000000  1.000000  1.000000  1.000000  1.000000  1.000000   \n",
       "2             0.342391  0.191869  0.259981  0.275670  0.279720  0.166667   \n",
       "3             0.213768  0.119116  0.165274  0.195312  0.216783  0.125000   \n",
       "4             0.164855  0.097004  0.116992  0.159598  0.139860  0.125000   \n",
       "5             0.139493  0.087019  0.102136  0.133929  0.130536  0.125000   \n",
       "\n",
       "CohortGroup          7  \n",
       "CohortPeriod            \n",
       "1             1.000000  \n",
       "2             0.166667  \n",
       "3                  NaN  \n",
       "4                  NaN  \n",
       "5                  NaN  "
      ]
     },
     "execution_count": 69,
     "metadata": {},
     "output_type": "execute_result"
    }
   ],
   "source": [
    "df_user_retention = df_cohorts['TotalUsers'].unstack(0).divide(df_cohorts_grp_size, axis=1)\n",
    "df_user_retention.head()"
   ]
  },
  {
   "cell_type": "code",
   "execution_count": 78,
   "metadata": {},
   "outputs": [
    {
     "data": {
      "text/plain": [
       "[Text(88,0.5,'Week of First Upload'),\n",
       " Text(0.5,52,'Returning After How Many Weeks?')]"
      ]
     },
     "execution_count": 78,
     "metadata": {},
     "output_type": "execute_result"
    },
    {
     "data": {
      "image/png": "[encoded data removed]",
      "text/plain": [
       "<Figure size 864x576 with 2 Axes>"
      ]
     },
     "metadata": {},
     "output_type": "display_data"
    }
   ],
   "source": [
    "#heatmap\n",
    "\n",
    "sns.set(style='darkgrid')\n",
    "\n",
    "plt.figure(figsize=(12, 8))\n",
    "plt.title('User Retention Across Time')\n",
    "ax = sns.heatmap(df_user_retention.T, mask=df_user_retention.T.isnull(), annot=True, fmt='.1%',  vmin = 0, vmax = 0.5, \n",
    "            cmap='coolwarm');\n",
    "ax.set(xlabel='Returning After How Many Weeks?', ylabel='Week of First Upload')"
   ]
  },
  {
   "cell_type": "markdown",
   "metadata": {},
   "source": [
    "# Aggregates"
   ]
  },
  {
   "cell_type": "code",
   "execution_count": 45,
   "metadata": {},
   "outputs": [
    {
     "data": {
      "text/plain": [
       "4415"
      ]
     },
     "execution_count": 45,
     "metadata": {},
     "output_type": "execute_result"
    }
   ],
   "source": [
    "#total unique users\n",
    "#4415 after outliers removed, 5334 before\n",
    "df_merge.user_id.nunique()\n",
    "df_merge_out.user_id.nunique()"
   ]
  },
  {
   "cell_type": "code",
   "execution_count": 62,
   "metadata": {},
   "outputs": [
    {
     "data": {
      "text/plain": [
       "Week_Number\n",
       "1      9805\n",
       "2     36603\n",
       "3     43758\n",
       "4     50858\n",
       "5     49679\n",
       "6     30265\n",
       "7     21129\n",
       "8     19435\n",
       "9     18988\n",
       "10    16708\n",
       "Name: upload_count, dtype: int64"
      ]
     },
     "execution_count": 62,
     "metadata": {},
     "output_type": "execute_result"
    }
   ],
   "source": [
    "#avg. session duration = 4.9 min\n",
    "df_merge_out.describe()\n",
    "\n",
    "#uploads per week\n",
    "df_uploads_wk = df_merge_out.groupby('Week_Number')['upload_count'].sum()\n",
    "df_uploads_wk.head(10)"
   ]
  },
  {
   "cell_type": "code",
   "execution_count": 63,
   "metadata": {},
   "outputs": [
    {
     "data": {
      "text/plain": [
       "Text(0,0.5,'Number of Uploads')"
      ]
     },
     "execution_count": 63,
     "metadata": {},
     "output_type": "execute_result"
    },
    {
     "data": {
      "image/png": "[encoded data removed]",
      "text/plain": [
       "<Figure size 720x360 with 1 Axes>"
      ]
     },
     "metadata": {},
     "output_type": "display_data"
    }
   ],
   "source": [
    "plt = df_uploads_wk.plot(figsize=(10,5))\n",
    "plt.set_xlabel(\"Week\")\n",
    "plt.set_ylabel(\"Number of Uploads\")"
   ]
  },
  {
   "cell_type": "code",
   "execution_count": 49,
   "metadata": {},
   "outputs": [
    {
     "data": {
      "text/plain": [
       "Week_Number\n",
       "1     5.654159\n",
       "2     4.503344\n",
       "3     5.059600\n",
       "4     4.991186\n",
       "5     4.854590\n",
       "6     4.725510\n",
       "7     5.016762\n",
       "8     5.173399\n",
       "9     4.818846\n",
       "10    4.451365\n",
       "11    4.908201\n",
       "12    4.507881\n",
       "Name: session_dur, dtype: float64"
      ]
     },
     "execution_count": 49,
     "metadata": {},
     "output_type": "execute_result"
    }
   ],
   "source": [
    "#session duration per week\n",
    "df_dur_wk = df_merge_out.groupby('Week_Number')['session_dur'].mean()\n",
    "\n",
    "df_dur_wk.head(12)"
   ]
  },
  {
   "cell_type": "code",
   "execution_count": 56,
   "metadata": {},
   "outputs": [
    {
     "data": {
      "text/plain": [
       "Text(0,0.5,'Average Session Duration (min.)')"
      ]
     },
     "execution_count": 56,
     "metadata": {},
     "output_type": "execute_result"
    },
    {
     "data": {
      "image/png": "[encoded data removed]",
      "text/plain": [
       "<Figure size 720x360 with 1 Axes>"
      ]
     },
     "metadata": {},
     "output_type": "display_data"
    }
   ],
   "source": [
    "plt = df_dur_wk.plot(figsize=(10,5))\n",
    "plt.set_xlabel(\"Week\")\n",
    "plt.set_ylabel(\"Average Session Duration (min.)\")"
   ]
  },
  {
   "cell_type": "code",
   "execution_count": null,
   "metadata": {},
   "outputs": [],
   "source": []
  }
 ],
 "metadata": {
  "kernelspec": {
   "display_name": "Python 3",
   "language": "python",
   "name": "python3"
  },
  "language_info": {
   "codemirror_mode": {
    "name": "ipython",
    "version": 3
   },
   "file_extension": ".py",
   "mimetype": "text/x-python",
   "name": "python",
   "nbconvert_exporter": "python",
   "pygments_lexer": "ipython3",
   "version": "3.6.5"
  }
 },
 "nbformat": 4,
 "nbformat_minor": 2
}
